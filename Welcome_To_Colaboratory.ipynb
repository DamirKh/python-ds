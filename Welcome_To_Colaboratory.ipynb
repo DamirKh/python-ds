{
  "nbformat": 4,
  "nbformat_minor": 0,
  "metadata": {
    "colab": {
      "name": "Welcome To Colaboratory",
      "provenance": [],
      "collapsed_sections": [],
      "toc_visible": true,
      "include_colab_link": true
    },
    "kernelspec": {
      "display_name": "Python 3",
      "name": "python3"
    }
  },
  "cells": [
    {
      "cell_type": "markdown",
      "metadata": {
        "id": "view-in-github",
        "colab_type": "text"
      },
      "source": [
        "<a href=\"https://colab.research.google.com/github/DamirKh/python-ds/blob/master/Welcome_To_Colaboratory.ipynb\" target=\"_parent\"><img src=\"https://colab.research.google.com/assets/colab-badge.svg\" alt=\"Open In Colab\"/></a>"
      ]
    },
    {
      "cell_type": "markdown",
      "metadata": {
        "id": "CxnNvOIvZVHc"
      },
      "source": [
        ""
      ]
    },
    {
      "cell_type": "markdown",
      "metadata": {
        "id": "3CiYq4uXZWso"
      },
      "source": [
        "Given a string s containing just the characters '(', ')', '{', '}', '[' and ']', determine if the input string is valid.\n",
        "\n",
        "An input string is valid if:\n",
        "\n",
        "\n",
        "1.   Open brackets must be closed by the same type of brackets.\n",
        "2.   Open brackets must be closed in the correct order."
      ]
    },
    {
      "cell_type": "code",
      "metadata": {
        "colab": {
          "base_uri": "https://localhost:8080/"
        },
        "id": "n24MgU-LcMwY",
        "outputId": "ff0c4e69-f564-47ab-eaf0-35600558e75b"
      },
      "source": [
        "!pip install icecream"
      ],
      "execution_count": 11,
      "outputs": [
        {
          "output_type": "stream",
          "text": [
            "Collecting icecream\n",
            "  Downloading https://files.pythonhosted.org/packages/1f/c0/8e2bc1b5eab95e5155841c826b431692638c19bf04ee4cdc86b379f85150/icecream-2.1.1-py2.py3-none-any.whl\n",
            "Collecting executing>=0.3.1\n",
            "  Downloading https://files.pythonhosted.org/packages/17/85/b84ea78f52bcb5513a790e64edc19687d8699ea6b4197f075da28547a370/executing-0.7.0-py2.py3-none-any.whl\n",
            "Collecting colorama>=0.3.9\n",
            "  Downloading https://files.pythonhosted.org/packages/44/98/5b86278fbbf250d239ae0ecb724f8572af1c91f4a11edf4d36a206189440/colorama-0.4.4-py2.py3-none-any.whl\n",
            "Collecting asttokens>=2.0.1\n",
            "  Downloading https://files.pythonhosted.org/packages/16/d5/b0ad240c22bba2f4591693b0ca43aae94fbd77fb1e2b107d54fff1462b6f/asttokens-2.0.5-py2.py3-none-any.whl\n",
            "Requirement already satisfied: pygments>=2.2.0 in /usr/local/lib/python3.7/dist-packages (from icecream) (2.6.1)\n",
            "Requirement already satisfied: six in /usr/local/lib/python3.7/dist-packages (from asttokens>=2.0.1->icecream) (1.15.0)\n",
            "Installing collected packages: executing, colorama, asttokens, icecream\n",
            "Successfully installed asttokens-2.0.5 colorama-0.4.4 executing-0.7.0 icecream-2.1.1\n"
          ],
          "name": "stdout"
        }
      ]
    },
    {
      "cell_type": "code",
      "metadata": {
        "id": "LClE04BNcEMR"
      },
      "source": [
        "from icecream import ic"
      ],
      "execution_count": 12,
      "outputs": []
    },
    {
      "cell_type": "code",
      "metadata": {
        "id": "g_gWKayiZcrh"
      },
      "source": [
        "class Solution:\n",
        "    def isValid(self, s: str) -> bool:\n",
        "        pairs={ '(': ')', \n",
        "                '{': '}', \n",
        "                '[': ']'}\n",
        "        openers=pairs.keys()\n",
        "        b = []\n",
        "        try:\n",
        "          for c in s:\n",
        "            if c in openers:\n",
        "              b.append(pairs[c])\n",
        "            elif c==b.pop():\n",
        "              pass\n",
        "            else:\n",
        "              return False\n",
        "        except IndexError:\n",
        "          return False\n",
        "        return not len(b)\n",
        "\n"
      ],
      "execution_count": 27,
      "outputs": []
    },
    {
      "cell_type": "code",
      "metadata": {
        "colab": {
          "base_uri": "https://localhost:8080/"
        },
        "id": "HWwJoooibc2M",
        "outputId": "b3bb2c10-70ab-4360-c1a4-b2558deb06bc"
      },
      "source": [
        "s = Solution()\n",
        "s.isValid('()[{}')"
      ],
      "execution_count": 19,
      "outputs": [
        {
          "output_type": "execute_result",
          "data": {
            "text/plain": [
              "False"
            ]
          },
          "metadata": {
            "tags": []
          },
          "execution_count": 19
        }
      ]
    },
    {
      "cell_type": "markdown",
      "metadata": {
        "id": "KjVmlxfFTV9p"
      },
      "source": [
        "Given an integer n, return true if it is a power of three. Otherwise, return false.\n",
        "\n",
        "An integer n is a power of three, if there exists an integer x such that n == 3x."
      ]
    },
    {
      "cell_type": "code",
      "metadata": {
        "id": "G-cOlyJVTU2S"
      },
      "source": [
        "class Solution2:\n",
        "    def isPowerOfThree(self, n: int) -> bool:\n",
        "        if n == 0 or n==3: return True\n",
        "        elif n<9: return False\n",
        "        else:\n",
        "          s=sum([int(x) for x in str(n)])\n",
        "          return not s%9"
      ],
      "execution_count": 57,
      "outputs": []
    },
    {
      "cell_type": "code",
      "metadata": {
        "id": "QQaJPhamVmNw",
        "outputId": "a9ecbe8d-72fd-443b-beb1-43c9dda3ceb8",
        "colab": {
          "base_uri": "https://localhost:8080/"
        }
      },
      "source": [
        "s = Solution2()\n",
        "s.isPowerOfThree(1594324)"
      ],
      "execution_count": 60,
      "outputs": [
        {
          "output_type": "execute_result",
          "data": {
            "text/plain": [
              "False"
            ]
          },
          "metadata": {
            "tags": []
          },
          "execution_count": 60
        }
      ]
    },
    {
      "cell_type": "code",
      "metadata": {
        "id": "KOasG9i2agEm",
        "outputId": "3ca35baf-f2bf-4b64-cf21-60c7e1f39ec2",
        "colab": {
          "base_uri": "https://localhost:8080/"
        }
      },
      "source": [
        "n=3\n",
        "for x in range(1,50):\n",
        "  s= sum([int(x) for x in str(n)])\n",
        "  print(n, s)\n",
        "  n*=3"
      ],
      "execution_count": 56,
      "outputs": [
        {
          "output_type": "stream",
          "text": [
            "3 3\n",
            "9 9\n",
            "27 9\n",
            "81 9\n",
            "243 9\n",
            "729 18\n",
            "2187 18\n",
            "6561 18\n",
            "19683 27\n",
            "59049 27\n",
            "177147 27\n",
            "531441 18\n",
            "1594323 27\n",
            "4782969 45\n",
            "14348907 36\n",
            "43046721 27\n",
            "129140163 27\n",
            "387420489 45\n",
            "1162261467 36\n",
            "3486784401 45\n",
            "10460353203 27\n",
            "31381059609 45\n",
            "94143178827 54\n",
            "282429536481 54\n",
            "847288609443 63\n",
            "2541865828329 63\n",
            "7625597484987 81\n",
            "22876792454961 72\n",
            "68630377364883 72\n",
            "205891132094649 63\n",
            "617673396283947 81\n",
            "1853020188851841 63\n",
            "5559060566555523 72\n",
            "16677181699666569 99\n",
            "50031545098999707 81\n",
            "150094635296999121 81\n",
            "450283905890997363 90\n",
            "1350851717672992089 90\n",
            "4052555153018976267 81\n",
            "12157665459056928801 90\n",
            "36472996377170786403 99\n",
            "109418989131512359209 90\n",
            "328256967394537077627 108\n",
            "984770902183611232881 90\n",
            "2954312706550833698643 99\n",
            "8862938119652501095929 108\n",
            "26588814358957503287787 126\n",
            "79766443076872509863361 117\n",
            "239299329230617529590083 108\n"
          ],
          "name": "stdout"
        }
      ]
    }
  ]
}