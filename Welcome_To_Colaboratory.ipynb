{
  "nbformat": 4,
  "nbformat_minor": 0,
  "metadata": {
    "colab": {
      "name": "Welcome To Colaboratory",
      "provenance": [],
      "collapsed_sections": [],
      "toc_visible": true,
      "include_colab_link": true
    },
    "kernelspec": {
      "display_name": "Python 3",
      "name": "python3"
    }
  },
  "cells": [
    {
      "cell_type": "markdown",
      "metadata": {
        "id": "view-in-github",
        "colab_type": "text"
      },
      "source": [
        "<a href=\"https://colab.research.google.com/github/DamirKh/python-ds/blob/master/Welcome_To_Colaboratory.ipynb\" target=\"_parent\"><img src=\"https://colab.research.google.com/assets/colab-badge.svg\" alt=\"Open In Colab\"/></a>"
      ]
    },
    {
      "cell_type": "markdown",
      "metadata": {
        "id": "CxnNvOIvZVHc"
      },
      "source": [
        ""
      ]
    },
    {
      "cell_type": "markdown",
      "metadata": {
        "id": "3CiYq4uXZWso"
      },
      "source": [
        "Given a string s containing just the characters '(', ')', '{', '}', '[' and ']', determine if the input string is valid.\n",
        "\n",
        "An input string is valid if:\n",
        "\n",
        "\n",
        "1.   Open brackets must be closed by the same type of brackets.\n",
        "2.   Open brackets must be closed in the correct order."
      ]
    },
    {
      "cell_type": "code",
      "metadata": {
        "colab": {
          "base_uri": "https://localhost:8080/"
        },
        "id": "n24MgU-LcMwY",
        "outputId": "24a4928b-731f-4f3a-be7c-cbb98f9f1c84"
      },
      "source": [
        "!pip install icecream"
      ],
      "execution_count": 1,
      "outputs": [
        {
          "output_type": "stream",
          "text": [
            "Collecting icecream\n",
            "  Downloading https://files.pythonhosted.org/packages/1f/c0/8e2bc1b5eab95e5155841c826b431692638c19bf04ee4cdc86b379f85150/icecream-2.1.1-py2.py3-none-any.whl\n",
            "Collecting executing>=0.3.1\n",
            "  Downloading https://files.pythonhosted.org/packages/17/85/b84ea78f52bcb5513a790e64edc19687d8699ea6b4197f075da28547a370/executing-0.7.0-py2.py3-none-any.whl\n",
            "Collecting colorama>=0.3.9\n",
            "  Downloading https://files.pythonhosted.org/packages/44/98/5b86278fbbf250d239ae0ecb724f8572af1c91f4a11edf4d36a206189440/colorama-0.4.4-py2.py3-none-any.whl\n",
            "Collecting asttokens>=2.0.1\n",
            "  Downloading https://files.pythonhosted.org/packages/16/d5/b0ad240c22bba2f4591693b0ca43aae94fbd77fb1e2b107d54fff1462b6f/asttokens-2.0.5-py2.py3-none-any.whl\n",
            "Requirement already satisfied: pygments>=2.2.0 in /usr/local/lib/python3.7/dist-packages (from icecream) (2.6.1)\n",
            "Requirement already satisfied: six in /usr/local/lib/python3.7/dist-packages (from asttokens>=2.0.1->icecream) (1.15.0)\n",
            "Installing collected packages: executing, colorama, asttokens, icecream\n",
            "Successfully installed asttokens-2.0.5 colorama-0.4.4 executing-0.7.0 icecream-2.1.1\n"
          ],
          "name": "stdout"
        }
      ]
    },
    {
      "cell_type": "code",
      "metadata": {
        "id": "LClE04BNcEMR"
      },
      "source": [
        "from icecream import ic"
      ],
      "execution_count": 2,
      "outputs": []
    },
    {
      "cell_type": "code",
      "metadata": {
        "id": "g_gWKayiZcrh"
      },
      "source": [
        "class Solution:\n",
        "    def isValid(self, s: str) -> bool:\n",
        "        pairs={ '(': ')', \n",
        "                '{': '}', \n",
        "                '[': ']'}\n",
        "        openers=pairs.keys()\n",
        "        b = []\n",
        "        try:\n",
        "          for c in s:\n",
        "            if c in openers:\n",
        "              b.append(pairs[c])\n",
        "            elif c==b.pop():\n",
        "              pass\n",
        "            else:\n",
        "              return False\n",
        "        except IndexError:\n",
        "          return False\n",
        "        return not len(b)\n",
        "\n"
      ],
      "execution_count": 3,
      "outputs": []
    },
    {
      "cell_type": "code",
      "metadata": {
        "colab": {
          "base_uri": "https://localhost:8080/"
        },
        "id": "HWwJoooibc2M",
        "outputId": "b3bb2c10-70ab-4360-c1a4-b2558deb06bc"
      },
      "source": [
        "s = Solution()\n",
        "s.isValid('()[{}')"
      ],
      "execution_count": null,
      "outputs": [
        {
          "output_type": "execute_result",
          "data": {
            "text/plain": [
              "False"
            ]
          },
          "metadata": {
            "tags": []
          },
          "execution_count": 19
        }
      ]
    },
    {
      "cell_type": "markdown",
      "metadata": {
        "id": "KjVmlxfFTV9p"
      },
      "source": [
        "Given an integer n, return true if it is a power of three. Otherwise, return false.\n",
        "\n",
        "An integer n is a power of three, if there exists an integer x such that n == 3x."
      ]
    },
    {
      "cell_type": "code",
      "metadata": {
        "id": "G-cOlyJVTU2S"
      },
      "source": [
        "class Solution2:\n",
        "    def isPowerOfThree(self, n: int) -> bool:\n",
        "        if n in [ 1,\n",
        "                  3,\n",
        "                  9,\n",
        "                  27,\n",
        "                  81,\n",
        "                  243,\n",
        "                  729,\n",
        "                  2187,\n",
        "                  6561,\n",
        "                  19683,\n",
        "                  59049,\n",
        "                  177147,\n",
        "                  531441,\n",
        "                  1594323,\n",
        "                  4782969,\n",
        "                  14348907,\n",
        "                  43046721,\n",
        "                  129140163,\n",
        "                  387420489,\n",
        "                  1162261467,\n",
        "                  3486784401\n",
        "                ]:\n",
        "          return True\n",
        "        else:\n",
        "          return False\n"
      ],
      "execution_count": 12,
      "outputs": []
    },
    {
      "cell_type": "code",
      "metadata": {
        "id": "QQaJPhamVmNw"
      },
      "source": [
        "s = Solution2()\n",
        "s.isPowerOfThree(1594324)"
      ],
      "execution_count": null,
      "outputs": []
    },
    {
      "cell_type": "code",
      "metadata": {
        "id": "KOasG9i2agEm"
      },
      "source": [
        "n=1\n",
        "while n <= 2**31-1:\n",
        "  print(n)\n",
        "  n*=3"
      ],
      "execution_count": null,
      "outputs": []
    }
  ]
}